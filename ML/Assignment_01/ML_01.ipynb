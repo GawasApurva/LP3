{
 "cells": [
  {
   "cell_type": "code",
   "execution_count": 7,
   "id": "choice-minister",
   "metadata": {},
   "outputs": [],
   "source": [
    "import numpy as np\n",
    "import pandas as pd\n",
    "import matplotlib.pyplot as plt"
   ]
  },
  {
   "cell_type": "code",
   "execution_count": 8,
   "id": "double-soldier",
   "metadata": {},
   "outputs": [],
   "source": [
    "x = np.array([10, 9, 2, 15, 10, 16, 11, 16])\n",
    "y = np.array([95, 80, 10, 50, 45, 98, 38, 93])"
   ]
  },
  {
   "cell_type": "code",
   "execution_count": 10,
   "id": "unnecessary-forth",
   "metadata": {},
   "outputs": [
    {
     "data": {
      "text/plain": [
       "<matplotlib.collections.PathCollection at 0x2096d84fca0>"
      ]
     },
     "execution_count": 10,
     "metadata": {},
     "output_type": "execute_result"
    },
    {
     "data": {
      "image/png": "[encoded data removed]",
      "text/plain": [
       "<Figure size 432x288 with 1 Axes>"
      ]
     },
     "metadata": {
      "needs_background": "light"
     },
     "output_type": "display_data"
    }
   ],
   "source": [
    "plt.xlabel('No of hours')\n",
    "plt.ylabel('Risk Score')\n",
    "plt.scatter(x,y,color='blue',marker='*')"
   ]
  },
  {
   "cell_type": "code",
   "execution_count": 11,
   "id": "capital-crystal",
   "metadata": {},
   "outputs": [],
   "source": [
    "def getCoef(x,y):\n",
    "    #mean of x and y\n",
    "    mean_x = np.mean(x)\n",
    "    mean_y = np.mean(y)\n",
    "    \n",
    "    #Total no of values\n",
    "    n = len(x)\n",
    "    \n",
    "    # formula to calculate b1 and b2\n",
    "    numer = 0\n",
    "    denom = 0\n",
    "    for i in range(n):\n",
    "        numer += (x[i] - mean_x) * (y[i] - mean_y)\n",
    "        denom += (x[i] - mean_x) ** 2\n",
    "    b1 = numer / denom\n",
    "    b0 = mean_y - (b1 * mean_x)\n",
    "    \n",
    "    return(b0, b1)"
   ]
  },
  {
   "cell_type": "code",
   "execution_count": 12,
   "id": "ethical-compression",
   "metadata": {},
   "outputs": [
    {
     "name": "stdout",
     "output_type": "stream",
     "text": [
      "Coefficients\n",
      "12.584627964022893\n",
      "4.58789860997547\n"
     ]
    }
   ],
   "source": [
    "coefs_ = getCoef(x,y)\n",
    "print(\"Coefficients\")\n",
    "print(coefs_[0])\n",
    "print(coefs_[1])"
   ]
  },
  {
   "cell_type": "markdown",
   "id": "political-pharmaceutical",
   "metadata": {},
   "source": [
    "### Straight line equation"
   ]
  },
  {
   "cell_type": "markdown",
   "id": "proper-helicopter",
   "metadata": {},
   "source": [
    "#### y = b0 + b1 * x"
   ]
  },
  {
   "cell_type": "code",
   "execution_count": 13,
   "id": "superb-access",
   "metadata": {},
   "outputs": [
    {
     "data": {
      "text/plain": [
       "[<matplotlib.lines.Line2D at 0x2096d8b9070>]"
      ]
     },
     "execution_count": 13,
     "metadata": {},
     "output_type": "execute_result"
    },
    {
     "data": {
      "image/png": "[encoded data removed]",
      "text/plain": [
       "<Figure size 432x288 with 1 Axes>"
      ]
     },
     "metadata": {
      "needs_background": "light"
     },
     "output_type": "display_data"
    }
   ],
   "source": [
    "plt.xlabel('No of hours')\n",
    "plt.ylabel('Risk Score')\n",
    "plt.scatter(x,y,color='blue',marker='*')\n",
    "y_pred = coefs_[0] + coefs_[1]*x\n",
    "plt.plot(x, y_pred, color = \"r\")"
   ]
  }
 ],
 "metadata": {
  "kernelspec": {
   "display_name": "Python 3",
   "language": "python",
   "name": "python3"
  },
  "language_info": {
   "codemirror_mode": {
    "name": "ipython",
    "version": 3
   },
   "file_extension": ".py",
   "mimetype": "text/x-python",
   "name": "python",
   "nbconvert_exporter": "python",
   "pygments_lexer": "ipython3",
   "version": "3.9.1"
  }
 },
 "nbformat": 4,
 "nbformat_minor": 5
}
