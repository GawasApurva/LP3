{
 "cells": [
  {
   "cell_type": "code",
   "execution_count": 9,
   "id": "female-little",
   "metadata": {},
   "outputs": [],
   "source": [
    "import matplotlib.pyplot as plt\n",
    "import math"
   ]
  },
  {
   "cell_type": "code",
   "execution_count": 10,
   "id": "wooden-liberal",
   "metadata": {},
   "outputs": [],
   "source": [
    "def manhattan_distance(x1,y1,x2,y2):\n",
    "    return math.fabs(x1-x2)+math.fabs(y1-y2)"
   ]
  },
  {
   "cell_type": "code",
   "execution_count": 11,
   "id": "julian-context",
   "metadata": {},
   "outputs": [],
   "source": [
    "def assign_labels(datapoints,centroids,labels):\n",
    "    #Check the distance from each point to centroids and assign labels\n",
    "\n",
    "    #Getting centroid coordinates\n",
    "    C1_x=centroids[0][0]\n",
    "    C1_y=centroids[0][1]\n",
    "\n",
    "    C2_x=centroids[1][0]\n",
    "    C2_y=centroids[1][1]\n",
    "\n",
    "    print(\"Centroid1: \",C1_x,\",\",C1_y)\n",
    "    print(\"Centroid2: \",C2_x,\",\",C2_y)\n",
    "\n",
    "    i=0\n",
    "    for point in datapoints:\n",
    "        x=point[0]\n",
    "        y=point[1]\n",
    "        \n",
    "        #get distance from both Centroids of the current point\n",
    "        dist1=manhattan_distance(x,y,C1_x,C1_y)\n",
    "        dist2=manhattan_distance(x,y,C2_x,C2_y)\n",
    "\n",
    "        #after getting both distance, see which is smaller and assign label\n",
    "        if(dist1<dist2):\n",
    "            labels[i]=1\n",
    "        else:\n",
    "            labels[i]=2\n",
    "        i+=1"
   ]
  },
  {
   "cell_type": "code",
   "execution_count": 12,
   "id": "needed-character",
   "metadata": {},
   "outputs": [],
   "source": [
    "def get_new_centroids(points,labels):\n",
    "    #define len1,len2\n",
    "    len1=len2=0\n",
    "\n",
    "    #define sum for both cluster1 & cluster2\n",
    "    sum_x1=sum_y1=0\n",
    "    sum_x2=sum_y2=0\n",
    "\n",
    "    #go thru all points at once\n",
    "    # and acc. to label add into len & specific x and y variables\n",
    "    index=0\n",
    "    for point in points:\n",
    "        x=point[0]\n",
    "        y=point[1]\n",
    "\n",
    "        if labels[index]==1:\n",
    "            len1+=1\n",
    "            sum_x1+=x\n",
    "            sum_y1+=y\n",
    "        else:\n",
    "            len2+=1\n",
    "            sum_x2+=x\n",
    "            sum_y2+=y\n",
    "        index+=1\n",
    "\n",
    "    #add all x and y points, divide by length to get mean\n",
    "    # and then return mean\n",
    "    new_C1_x=sum_x1/len1\n",
    "    new_C1_y=sum_y1/len1\n",
    "\n",
    "    new_C2_x=sum_x2/len2\n",
    "    new_C2_y=sum_y2/len2\n",
    "\n",
    "    new_C1=(new_C1_x,new_C1_y)\n",
    "    new_C2=(new_C2_x,new_C2_y)\n",
    "\n",
    "    return (new_C1,new_C2)"
   ]
  },
  {
   "cell_type": "code",
   "execution_count": 13,
   "id": "stretch-penalty",
   "metadata": {},
   "outputs": [],
   "source": [
    "def KMeans(datapoints,centroids,labels,old_labels):\n",
    "    #go in while loop till the labels don't change in an iteration\n",
    "    while(labels!=old_labels):\n",
    "        #copy the old_labels by labels.copy for further comparison\n",
    "        #  in while loop\n",
    "        old_labels=labels.copy()\n",
    "\n",
    "        #assign initial labels\n",
    "        assign_labels(datapoints,centroids,labels)\n",
    "\n",
    "        # Now calculate new centroids from the current labels\n",
    "        #   to get cluster\n",
    "        centroids[0],centroids[1]=get_new_centroids(datapoints,labels)\n",
    "\n",
    "        print(\"New centroids:\",centroids)\n",
    "        print(\"New labels: \",labels)\n",
    "        print(\"Old labels: \",old_labels)"
   ]
  },
  {
   "cell_type": "code",
   "execution_count": 14,
   "id": "basic-karaoke",
   "metadata": {},
   "outputs": [],
   "source": [
    "#datapoints\n",
    "datapoints = [\n",
    "  (0.1,0.6),\n",
    "  (0.15,0.71),\n",
    "  (0.08,0.9),\n",
    "  (0.16, 0.85),\n",
    "  (0.2,0.3),\n",
    "  (0.25,0.5),\n",
    "  (0.24,0.1),\n",
    "  (0.3,0.2)\n",
    "]\n",
    "#initial centroids\n",
    "centroids = [\n",
    "  (0.1,0.6),\n",
    "  (0.3,0.2)\n",
    "]\n",
    "\n",
    "#Init list of labels of size 8 with all 8 zeros\n",
    "#Init old_labels with size 8 and all -1\n",
    "#labels=[0,0,0,0,0,0,0,0]\n",
    "labels=[0]*8\n",
    "old_labels=[-1]*8"
   ]
  },
  {
   "cell_type": "code",
   "execution_count": 15,
   "id": "preliminary-merchant",
   "metadata": {},
   "outputs": [
    {
     "data": {
      "image/png": "[encoded data removed]",
      "text/plain": [
       "<Figure size 432x288 with 1 Axes>"
      ]
     },
     "metadata": {
      "needs_background": "light"
     },
     "output_type": "display_data"
    }
   ],
   "source": [
    "#Divide into co-ordinate list for plotting\n",
    "x=[d[0] for d in datapoints]\n",
    "y=[d[1] for d in datapoints]\n",
    "\n",
    "xc=[c[0] for c in centroids]\n",
    "yc=[c[1] for c in centroids]\n",
    "\n",
    "plt.scatter(x,y)\n",
    "plt.plot(xc,yc,\"^\",color=\"red\")\n",
    "plt.show()"
   ]
  },
  {
   "cell_type": "code",
   "execution_count": 16,
   "id": "czech-clearing",
   "metadata": {},
   "outputs": [
    {
     "name": "stdout",
     "output_type": "stream",
     "text": [
      "Centroid1:  0.1 , 0.6\n",
      "Centroid2:  0.3 , 0.2\n",
      "New centroids: [(0.148, 0.712), (0.24666666666666667, 0.20000000000000004)]\n",
      "New labels:  [1, 1, 1, 1, 2, 1, 2, 2]\n",
      "Old labels:  [0, 0, 0, 0, 0, 0, 0, 0]\n",
      "Centroid1:  0.148 , 0.712\n",
      "Centroid2:  0.24666666666666667 , 0.20000000000000004\n",
      "New centroids: [(0.1225, 0.765), (0.2475, 0.275)]\n",
      "New labels:  [1, 1, 1, 1, 2, 2, 2, 2]\n",
      "Old labels:  [1, 1, 1, 1, 2, 1, 2, 2]\n",
      "Centroid1:  0.1225 , 0.765\n",
      "Centroid2:  0.2475 , 0.275\n",
      "New centroids: [(0.1225, 0.765), (0.2475, 0.275)]\n",
      "New labels:  [1, 1, 1, 1, 2, 2, 2, 2]\n",
      "Old labels:  [1, 1, 1, 1, 2, 2, 2, 2]\n",
      "Final centroid:  [(0.1225, 0.765), (0.2475, 0.275)]\n",
      "Final labels [1, 1, 1, 1, 2, 2, 2, 2]\n"
     ]
    }
   ],
   "source": [
    "KMeans(datapoints,centroids,labels,old_labels)\n",
    "\n",
    "print(\"Final centroid: \",centroids)\n",
    "print(\"Final labels\",labels)"
   ]
  },
  {
   "cell_type": "code",
   "execution_count": 17,
   "id": "cathedral-democracy",
   "metadata": {},
   "outputs": [
    {
     "data": {
      "image/png": "[encoded data removed]",
      "text/plain": [
       "<Figure size 432x288 with 1 Axes>"
      ]
     },
     "metadata": {
      "needs_background": "light"
     },
     "output_type": "display_data"
    }
   ],
   "source": [
    "#Divide into co-ordinate list for plotting\n",
    "x=[d[0] for d in datapoints]\n",
    "y=[d[1] for d in datapoints]\n",
    "\n",
    "xc=[c[0] for c in centroids]\n",
    "yc=[c[1] for c in centroids]\n",
    "\n",
    "plt.scatter(x,y)\n",
    "plt.plot(xc,yc,\"^\",color=\"red\")\n",
    "plt.show()"
   ]
  }
 ],
 "metadata": {
  "kernelspec": {
   "display_name": "Python 3",
   "language": "python",
   "name": "python3"
  },
  "language_info": {
   "codemirror_mode": {
    "name": "ipython",
    "version": 3
   },
   "file_extension": ".py",
   "mimetype": "text/x-python",
   "name": "python",
   "nbconvert_exporter": "python",
   "pygments_lexer": "ipython3",
   "version": "3.9.1"
  }
 },
 "nbformat": 4,
 "nbformat_minor": 5
}
