{
 "cells": [
  {
   "cell_type": "code",
   "execution_count": 16,
   "id": "guided-comment",
   "metadata": {},
   "outputs": [],
   "source": [
    "from random import randint\n",
    "from math import gcd\n",
    "from sympy import mod_inverse"
   ]
  },
  {
   "cell_type": "code",
   "execution_count": 17,
   "id": "desperate-maria",
   "metadata": {},
   "outputs": [],
   "source": [
    "def encrypt(m,n,e): # encrypts a single block\n",
    "    c = pow(m,e,n)\n",
    "    #print(c)\n",
    "    return c"
   ]
  },
  {
   "cell_type": "code",
   "execution_count": 18,
   "id": "dress-horror",
   "metadata": {},
   "outputs": [],
   "source": [
    "def decrypt(c,n,d): # decrypts a single block\n",
    "    m =pow(c,d,n)\n",
    "    #print(m)\n",
    "    return m"
   ]
  },
  {
   "cell_type": "code",
   "execution_count": 19,
   "id": "sexual-tsunami",
   "metadata": {},
   "outputs": [],
   "source": [
    "def encrypt_message(m,n,e): # applies encryption\n",
    "    ct=''\n",
    "    for ch in m:\n",
    "        #print(ch,\" : \",ord(ch))\n",
    "        ct+=chr(encrypt(ord(ch),n,e))\n",
    "\n",
    "    return ct"
   ]
  },
  {
   "cell_type": "code",
   "execution_count": 20,
   "id": "twelve-district",
   "metadata": {},
   "outputs": [],
   "source": [
    "def decrypt_message(c,n,d): # applies decryption\n",
    "    pt=''\n",
    "    for ch in c:\n",
    "        #print(ch,\" : \",ord(ch))\n",
    "        pt+=chr(decrypt(ord(ch),n,d))\n",
    "\n",
    "    return pt"
   ]
  },
  {
   "cell_type": "code",
   "execution_count": 21,
   "id": "weekly-listening",
   "metadata": {},
   "outputs": [
    {
     "name": "stdout",
     "output_type": "stream",
     "text": [
      "Public key is (n,e) which is: ( 658627 , 303139 )\n",
      "private key is (n,d) which is: ( 658627 , 84259 )\n"
     ]
    }
   ],
   "source": [
    "# Generate Two unequal Large Primes of comparable size\n",
    "p, q = 877, 751\n",
    "#p, q = 6971, 6299\n",
    "\n",
    "# For large p and q, n will take centuries to factorize\n",
    "n = p*q\n",
    "\n",
    "# phi function\n",
    "fi_n = (p-1)*(q-1)\n",
    "\n",
    "# e and fi_n are relatively prime if their gcd is 1\n",
    "while True:\n",
    "    e = randint(1, fi_n)\n",
    "    if gcd(fi_n, e) == 1:\n",
    "        break\n",
    "        \n",
    "# inverse modulo exists iff e and fi_n are relatively prime\n",
    "# Modular Inverse\n",
    "d = mod_inverse(e, fi_n)\n",
    "\n",
    "print(\"Public key is (n,e) which is: (\", n ,\",\",e,\")\")\n",
    "print(\"private key is (n,d) which is: (\", n ,\",\",d,\")\")"
   ]
  },
  {
   "cell_type": "markdown",
   "id": "brave-possibility",
   "metadata": {},
   "source": [
    "#### Test Cases"
   ]
  },
  {
   "cell_type": "code",
   "execution_count": 22,
   "id": "bizarre-layout",
   "metadata": {},
   "outputs": [
    {
     "name": "stdout",
     "output_type": "stream",
     "text": [
      "Plain Text =  Sos1!\n",
      "Decryption Text =  Sos1!\n"
     ]
    }
   ],
   "source": [
    "plain_text = 'Sos1!'\n",
    "cipher_text = encrypt_message(plain_text, n,e)\n",
    "decrypted_text = decrypt_message(cipher_text, n,d)\n",
    "\n",
    "print('Plain Text = ', plain_text)\n",
    "print('Decryption Text = ', decrypted_text)"
   ]
  },
  {
   "cell_type": "code",
   "execution_count": 23,
   "id": "sustainable-japan",
   "metadata": {},
   "outputs": [
    {
     "name": "stdout",
     "output_type": "stream",
     "text": [
      "Plain Text =  Lab Assignment 04\n",
      "Decryption Text =  Lab Assignment 04\n"
     ]
    }
   ],
   "source": [
    "plain_text = 'Lab Assignment 04'\n",
    "cipher_text = encrypt_message(plain_text, n,e)\n",
    "decrypted_text = decrypt_message(cipher_text, n,d)\n",
    "\n",
    "print('Plain Text = ', plain_text)\n",
    "print('Decryption Text = ', decrypted_text)"
   ]
  }
 ],
 "metadata": {
  "kernelspec": {
   "display_name": "Python 3",
   "language": "python",
   "name": "python3"
  },
  "language_info": {
   "codemirror_mode": {
    "name": "ipython",
    "version": 3
   },
   "file_extension": ".py",
   "mimetype": "text/x-python",
   "name": "python",
   "nbconvert_exporter": "python",
   "pygments_lexer": "ipython3",
   "version": "3.9.1"
  }
 },
 "nbformat": 4,
 "nbformat_minor": 5
}
