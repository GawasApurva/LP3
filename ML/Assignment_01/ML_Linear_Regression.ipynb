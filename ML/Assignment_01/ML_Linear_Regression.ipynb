{
 "cells": [
  {
   "cell_type": "markdown",
   "id": "about-nepal",
   "metadata": {},
   "source": [
    "### Assignment No : 01 Linear Regression"
   ]
  },
  {
   "cell_type": "markdown",
   "id": "false-grenada",
   "metadata": {},
   "source": [
    "####  Problem Statement : The following table shows the results of a recently conducted study on the correlation of the number of hours spent driving with the risk of developing acute backache. Find the equation of the best fit line for this data."
   ]
  },
  {
   "cell_type": "code",
   "execution_count": 2,
   "id": "basic-peace",
   "metadata": {},
   "outputs": [],
   "source": [
    "import matplotlib.pyplot as plt\n",
    "import pandas as pd\n",
    "import numpy as np"
   ]
  },
  {
   "cell_type": "code",
   "execution_count": 3,
   "id": "italian-formation",
   "metadata": {},
   "outputs": [],
   "source": [
    "# Read Dataset\n",
    "dataset=pd.read_csv(\"data.csv\")\n",
    "X=dataset.iloc[:,:-1].values\n",
    "y=dataset.iloc[:,1].values"
   ]
  },
  {
   "cell_type": "code",
   "execution_count": 4,
   "id": "southern-forward",
   "metadata": {},
   "outputs": [
    {
     "name": "stdout",
     "output_type": "stream",
     "text": [
      "Accuracy : 43.709481451010035\n"
     ]
    }
   ],
   "source": [
    "# Import the Linear Regression and Create object of it\n",
    "from sklearn.linear_model import LinearRegression\n",
    "regressor=LinearRegression()\n",
    "regressor.fit(X,y)\n",
    "Accuracy=regressor.score(X, y)*100\n",
    "print(\"Accuracy :\", Accuracy)"
   ]
  },
  {
   "cell_type": "code",
   "execution_count": 5,
   "id": "capable-typing",
   "metadata": {},
   "outputs": [
    {
     "name": "stdout",
     "output_type": "stream",
     "text": [
      "[58.46361406]\n"
     ]
    }
   ],
   "source": [
    "# Predict the value using Regressor Object\n",
    "y_pred=regressor.predict([[10]])\n",
    "print(y_pred)"
   ]
  },
  {
   "cell_type": "code",
   "execution_count": 6,
   "id": "certain-window",
   "metadata": {},
   "outputs": [
    {
     "name": "stdout",
     "output_type": "stream",
     "text": [
      "Enter the no of hours10\n"
     ]
    }
   ],
   "source": [
    "# Take user input\n",
    "hours=int(input('Enter the no of hours'))"
   ]
  },
  {
   "cell_type": "code",
   "execution_count": 7,
   "id": "competent-antigua",
   "metadata": {},
   "outputs": [
    {
     "name": "stdout",
     "output_type": "stream",
     "text": [
      "[4.58789861]\n"
     ]
    }
   ],
   "source": [
    "#slope in ML Model or b1\n",
    "print(regressor.coef_)"
   ]
  },
  {
   "cell_type": "code",
   "execution_count": 8,
   "id": "vietnamese-zambia",
   "metadata": {},
   "outputs": [
    {
     "name": "stdout",
     "output_type": "stream",
     "text": [
      "12.584627964022907\n"
     ]
    }
   ],
   "source": [
    "#intercept in ML Model or b0\n",
    "print(regressor.intercept_)"
   ]
  },
  {
   "cell_type": "code",
   "execution_count": 9,
   "id": "piano-singles",
   "metadata": {},
   "outputs": [
    {
     "name": "stdout",
     "output_type": "stream",
     "text": [
      "y :\n",
      "4.587899*10.000000+12.584628\n",
      "Risk Score :  58.4636140637776\n"
     ]
    },
    {
     "data": {
      "image/png": "[encoded data removed]",
      "text/plain": [
       "<Figure size 432x288 with 1 Axes>"
      ]
     },
     "metadata": {
      "needs_background": "light"
     },
     "output_type": "display_data"
    }
   ],
   "source": [
    "#calculate the value of y\n",
    "eq=regressor.coef_*hours+regressor.intercept_\n",
    "y_new='%f*%f+%f' %(regressor.coef_,hours,regressor.intercept_)\n",
    "print(\"y :\")\n",
    "print(y_new)\n",
    "print(\"Risk Score : \", eq[0])\n",
    "plt.plot(X,y,'o')\n",
    "plt.plot(X,regressor.predict(X));\n",
    "plt.show()"
   ]
  },
  {
   "cell_type": "markdown",
   "id": "multiple-antibody",
   "metadata": {},
   "source": [
    "##### equation : b1*X + b0"
   ]
  }
 ],
 "metadata": {
  "kernelspec": {
   "display_name": "Python 3",
   "language": "python",
   "name": "python3"
  },
  "language_info": {
   "codemirror_mode": {
    "name": "ipython",
    "version": 3
   },
   "file_extension": ".py",
   "mimetype": "text/x-python",
   "name": "python",
   "nbconvert_exporter": "python",
   "pygments_lexer": "ipython3",
   "version": "3.9.1"
  }
 },
 "nbformat": 4,
 "nbformat_minor": 5
}
