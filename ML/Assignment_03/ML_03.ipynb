{
 "cells": [
  {
   "cell_type": "markdown",
   "id": "continuing-november",
   "metadata": {},
   "source": [
    "### Method 01"
   ]
  },
  {
   "cell_type": "code",
   "execution_count": 1,
   "id": "after-safety",
   "metadata": {},
   "outputs": [],
   "source": [
    "import math\n",
    "import numpy as np\n",
    "import pandas as pd\n",
    "import matplotlib.pyplot as plt"
   ]
  },
  {
   "cell_type": "code",
   "execution_count": 2,
   "id": "harmful-stranger",
   "metadata": {},
   "outputs": [],
   "source": [
    "def euclidean_distance(row1, row2):\n",
    "    distance = 0.0\n",
    "    for i in range(len(row1)-1):\n",
    "        distance += (row1[i] - row2[i])**2\n",
    "    return math.sqrt(distance)"
   ]
  },
  {
   "cell_type": "code",
   "execution_count": 3,
   "id": "casual-finder",
   "metadata": {},
   "outputs": [],
   "source": [
    "def get_neighbors(train, test_row, num_neighbors):\n",
    "    distances = list()\n",
    "    for train_row in train:\n",
    "        dist = euclidean_distance(train_row, test_row)\n",
    "        distances.append((train_row, dist))\n",
    "    distances.sort(key=lambda tup: tup[1])\n",
    "    neighbors = list()\n",
    "    for i in range(num_neighbors):\n",
    "        neighbors.append(distances[i][0])\n",
    "    return neighbors"
   ]
  },
  {
   "cell_type": "code",
   "execution_count": 4,
   "id": "measured-scratch",
   "metadata": {},
   "outputs": [
    {
     "data": {
      "text/plain": [
       "<matplotlib.collections.PathCollection at 0x19b85b93790>"
      ]
     },
     "execution_count": 4,
     "metadata": {},
     "output_type": "execute_result"
    },
    {
     "data": {
      "image/png": "[encoded data removed]",
      "text/plain": [
       "<Figure size 432x288 with 1 Axes>"
      ]
     },
     "metadata": {
      "needs_background": "light"
     },
     "output_type": "display_data"
    }
   ],
   "source": [
    "xpos = np.array([4, 6])\n",
    "ypos = np.array([4, 2])\n",
    "plt.scatter(xpos, ypos,color='blue')\n",
    "xneg = np.array([2, 4, 4, 6])\n",
    "yneg = np.array([4, 6, 2, 4])\n",
    "plt.scatter(xneg, yneg,color='orange')\n",
    "x = [6]\n",
    "y = [6]\n",
    "plt.scatter(x, y)"
   ]
  },
  {
   "cell_type": "code",
   "execution_count": 5,
   "id": "premium-collar",
   "metadata": {},
   "outputs": [
    {
     "name": "stdout",
     "output_type": "stream",
     "text": [
      "Data point :  [6, 6]\n",
      "Nearest Neighbors :  [[4, 6, 'Orange'], [6, 4, 'Orange'], [4, 4, 'Blue']]\n",
      "Prediction :  Orange \n",
      "\n"
     ]
    }
   ],
   "source": [
    "train_data = [[2, 4, \"Orange\"], [4, 4, \"Blue\"], [4, 6, \"Orange\"], [4, 2, \"Orange\"], [6, 2, \"Blue\"], [6, 4, \"Orange\"]]\n",
    "test_data = [[6, 6]]\n",
    "\n",
    "for item in test_data:\n",
    "    print(\"Data point : \", item)\n",
    "    neighbors = get_neighbors(train_data, item, 3)\n",
    "    print(\"Nearest Neighbors : \", neighbors)\n",
    "    output_values = [row[-1] for row in neighbors]\n",
    "    prediction = max(set(output_values), key=output_values.count)\n",
    "    print(\"Prediction : \", prediction, \"\\n\")"
   ]
  },
  {
   "cell_type": "markdown",
   "id": "radical-steam",
   "metadata": {},
   "source": [
    "#### Method 02"
   ]
  },
  {
   "cell_type": "code",
   "execution_count": 6,
   "id": "dynamic-election",
   "metadata": {},
   "outputs": [],
   "source": [
    "import math\n",
    "#from statistics import mode\n",
    "from scipy.stats import mode"
   ]
  },
  {
   "cell_type": "code",
   "execution_count": 7,
   "id": "inner-mason",
   "metadata": {},
   "outputs": [],
   "source": [
    "def euclidean_distance(x1,y1,x2,y2):\n",
    "    return math.sqrt(((x1-x2)**2)+((y1-y2)**2))"
   ]
  },
  {
   "cell_type": "code",
   "execution_count": 8,
   "id": "simplified-appraisal",
   "metadata": {},
   "outputs": [],
   "source": [
    "def knn(datapoints,query_point,labels,k):\n",
    "    #Query-point coordinates\n",
    "    xq=query_point[0][0]\n",
    "    yq=query_point[0][1]\n",
    "\n",
    "    #calculate distance of query_point from all datapoints\n",
    "    #store as (dist,idx)\n",
    "    distances=[]\n",
    "\n",
    "    idx=0\n",
    "    for point in datapoints:\n",
    "        x=point[0]\n",
    "        y=point[1]\n",
    "\n",
    "        dist=euclidean_distance(x,y,xq,yq)\n",
    "\n",
    "        distances.append((dist,idx))\n",
    "\n",
    "        idx+=1\n",
    "\n",
    "    #now get least-k distances\n",
    "    k_distances=[]\n",
    "\n",
    "    distances.sort()\n",
    "\n",
    "    #storing least-k distance in k_distances (dist,idx)\n",
    "    k_distances=distances[:k]\n",
    "\n",
    "    print(\"K-nearest Neighbours with (dist,idx):\",k_distances)\n",
    "\n",
    "    #Get labels of the k-nearest\n",
    "    k_labels=[]\n",
    "\n",
    "    for dist,idx in k_distances:\n",
    "        k_labels.append(labels[idx])\n",
    "\n",
    "    print(\"Labels of KNNs:\",k_labels)\n",
    "\n",
    "    #Get mode of k_labels as final_label\n",
    "    final_label=mode(k_labels)\n",
    "\n",
    "    print(\"Final Label:\",final_label)"
   ]
  },
  {
   "cell_type": "code",
   "execution_count": 9,
   "id": "ahead-sweet",
   "metadata": {},
   "outputs": [],
   "source": [
    "def knn_distance_weighted(datapoints,query_point,labels,k):\n",
    "    #Query-point coordinates\n",
    "    xq=query_point[0][0]\n",
    "    yq=query_point[0][1]\n",
    "\n",
    "    #calculate distance of query_point from all datapoints\n",
    "    #store as (dist,idx)\n",
    "    distances=[]\n",
    "\n",
    "    idx=0\n",
    "    for point in datapoints:\n",
    "        x=point[0]\n",
    "        y=point[1]\n",
    "\n",
    "        dist=euclidean_distance(x,y,xq,yq)\n",
    "\n",
    "        distances.append((dist,idx))\n",
    "\n",
    "        idx+=1\n",
    "\n",
    "    #now get least-k distances\n",
    "    k_distances=[]\n",
    "\n",
    "    distances.sort()\n",
    "\n",
    "    #storing least-k distance in k_distances (dist,idx)\n",
    "    k_distances=distances[:k]\n",
    "\n",
    "    print(\"K-nearest Neighbours with (dist,idx):\",k_distances)\n",
    "\n",
    "    #Get labels of the k-nearest\n",
    "    k_labels=[]\n",
    "\n",
    "    for dist,idx in k_distances:\n",
    "        k_labels.append(labels[idx])\n",
    "\n",
    "    print(\"Labels of KNNs:\",k_labels)\n",
    "\n",
    "    #Calculate k_weights for each of the k-nearest distances\n",
    "    k_weights=[]\n",
    "\n",
    "    for (dist,idx) in k_distances:\n",
    "        wt=1/dist\n",
    "        k_weights.append((wt,idx))\n",
    "\n",
    "    print(\"K-weights:\",k_weights)\n",
    "\n",
    "    #Now, add weights acc to labels to find maximum\n",
    "    one_label_weight=0\n",
    "    zero_label_weight=0\n",
    "\n",
    "    #go thru all the k_labels,\n",
    "    # if label is 0, add to zero_label_wt\n",
    "    # else add to one_label_wt\n",
    "    for i in range(len(k_labels)):\n",
    "        if k_labels[i]==0:\n",
    "            zero_label_weight+=k_weights[i][0]\n",
    "        else:\n",
    "            one_label_weight+=k_weights[i][0]\n",
    "\n",
    "    print(\"One Label Weight:\",one_label_weight)\n",
    "    print(\"Zero Label Weight:\",zero_label_weight)\n",
    "\n",
    "    final_label=0\n",
    "\n",
    "    #Compare both weights and assign final label\n",
    "    if one_label_weight>=zero_label_weight:\n",
    "        final_label=1\n",
    "    else:\n",
    "        final_label=0\n",
    "\n",
    "    print(\"Final Label:\", final_label)\n"
   ]
  },
  {
   "cell_type": "code",
   "execution_count": 10,
   "id": "passing-physics",
   "metadata": {},
   "outputs": [],
   "source": [
    "#datapoints, labels, query_point\n",
    "datapoints=[\n",
    "    (4,2),\n",
    "    (2,4),\n",
    "    (6,4),\n",
    "    (4,6),\n",
    "    (6,2),\n",
    "    (4,4),\n",
    "]\n",
    "\n",
    "labels=[1,1,1,1,0,0]\n",
    "\n",
    "query_point=[(6,6)]"
   ]
  },
  {
   "cell_type": "code",
   "execution_count": 11,
   "id": "touched-alcohol",
   "metadata": {},
   "outputs": [
    {
     "name": "stdout",
     "output_type": "stream",
     "text": [
      "KNN\n",
      "K-nearest Neighbours with (dist,idx): [(2.0, 2), (2.0, 3), (2.8284271247461903, 5)]\n",
      "Labels of KNNs: [1, 1, 0]\n",
      "Final Label: ModeResult(mode=array([1]), count=array([2]))\n",
      "KNN-Distance Weighted\n",
      "K-nearest Neighbours with (dist,idx): [(2.0, 2), (2.0, 3), (2.8284271247461903, 5)]\n",
      "Labels of KNNs: [1, 1, 0]\n",
      "K-weights: [(0.5, 2), (0.5, 3), (0.35355339059327373, 5)]\n",
      "One Label Weight: 1.0\n",
      "Zero Label Weight: 0.35355339059327373\n",
      "Final Label: 1\n"
     ]
    }
   ],
   "source": [
    "print('KNN')\n",
    "knn(datapoints,query_point,labels,3)\n",
    "\n",
    "print('KNN-Distance Weighted')\n",
    "knn_distance_weighted(datapoints,query_point,labels,3)"
   ]
  }
 ],
 "metadata": {
  "kernelspec": {
   "display_name": "Python 3",
   "language": "python",
   "name": "python3"
  },
  "language_info": {
   "codemirror_mode": {
    "name": "ipython",
    "version": 3
   },
   "file_extension": ".py",
   "mimetype": "text/x-python",
   "name": "python",
   "nbconvert_exporter": "python",
   "pygments_lexer": "ipython3",
   "version": "3.9.1"
  }
 },
 "nbformat": 4,
 "nbformat_minor": 5
}
