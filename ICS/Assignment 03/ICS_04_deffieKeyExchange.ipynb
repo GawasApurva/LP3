{
 "cells": [
  {
   "cell_type": "code",
   "execution_count": 4,
   "id": "australian-sword",
   "metadata": {},
   "outputs": [],
   "source": [
    "def isPrime(num):\n",
    "    if num> 1:  \n",
    "        for n in range(2,num):  \n",
    "            if (num % n) == 0:  \n",
    "                return False\n",
    "        return True\n",
    "    else:\n",
    "        return False"
   ]
  },
  {
   "cell_type": "code",
   "execution_count": 5,
   "id": "informational-begin",
   "metadata": {},
   "outputs": [],
   "source": [
    "#function to get smallest primitive root of n\n",
    "def get_primitive_root(n):\n",
    "\n",
    "    flag=False\n",
    "\n",
    "    #r goes from 1 to n-1\n",
    "    for r in range(1,n):\n",
    "        \n",
    "        #create a empty dict for every 'r' iteration\n",
    "        values={}\n",
    "\n",
    "        #x goes from 0 to n-2\n",
    "        for x in range(0,n-1):\n",
    "            \n",
    "            #taking (r^x)%n\n",
    "            val=pow(r,x,n)\n",
    "\n",
    "            #if that val is already present in dictionary values,\n",
    "            #   check for next r, break inner loop\n",
    "            if val in values.keys():\n",
    "                break\n",
    "\n",
    "            #otherwise add it to dictionary\n",
    "            values[val]=True\n",
    "   \n",
    "            #if x has reached n-2, make flag True\n",
    "            if x==n-2:\n",
    "                flag=True\n",
    "        \n",
    "        #if flag is True, break we have found n\n",
    "        if flag==True:\n",
    "            return r\n",
    "\n",
    "    return None"
   ]
  },
  {
   "cell_type": "code",
   "execution_count": 6,
   "id": "timely-cassette",
   "metadata": {},
   "outputs": [
    {
     "name": "stdout",
     "output_type": "stream",
     "text": [
      "Diffie Hellman key exchange\n",
      "Enter n:23\n"
     ]
    }
   ],
   "source": [
    "print(\"Diffie Hellman key exchange\")\n",
    "\n",
    "#Choose a prime 'n'\n",
    "flag=False\n",
    "while(flag!=True):\n",
    "    #Choose a prime n\n",
    "    n=int(input(\"Enter n:\"))\n",
    "\n",
    "    #Check if n is prime\n",
    "    if isPrime(n)==True:\n",
    "        flag=True"
   ]
  },
  {
   "cell_type": "code",
   "execution_count": 7,
   "id": "metropolitan-carolina",
   "metadata": {},
   "outputs": [
    {
     "name": "stdout",
     "output_type": "stream",
     "text": [
      "n is : 23\n",
      "g is : 5\n",
      "Enter Alex private key a:3\n",
      "Enter Bob private key b: 4\n",
      "a is : 3\n",
      "b is : 4\n"
     ]
    }
   ],
   "source": [
    "#get g: primitive root of n\n",
    "g=get_primitive_root(n)\n",
    "\n",
    "print(\"n is :\", n)\n",
    "print(\"g is :\", g)\n",
    "\n",
    "#Alex chooses private key a, Bob chooses private key b\n",
    "\n",
    "a=int(input(\"Enter Alex private key a:\"))\n",
    "b=int(input(\"Enter Bob private key b: \"))\n",
    "\n",
    "print(\"a is :\", a)\n",
    "print(\"b is :\", b)"
   ]
  },
  {
   "cell_type": "code",
   "execution_count": 8,
   "id": "popular-hepatitis",
   "metadata": {},
   "outputs": [
    {
     "name": "stdout",
     "output_type": "stream",
     "text": [
      "A is : 10\n",
      "B is : 4\n"
     ]
    }
   ],
   "source": [
    "#Alex calculates A= g^a modn \n",
    "A=pow(g,a,n)\n",
    "\n",
    "print(\"A is :\", A)\n",
    "\n",
    "#Bob calculates B=g^b modn\n",
    "B=pow(g,b,n)\n",
    "\n",
    "print(\"B is :\", B)"
   ]
  },
  {
   "cell_type": "code",
   "execution_count": 9,
   "id": "curious-mongolia",
   "metadata": {},
   "outputs": [
    {
     "name": "stdout",
     "output_type": "stream",
     "text": [
      "Shared secret key is:  18\n",
      "Shared secret key is:  18\n"
     ]
    }
   ],
   "source": [
    "#Shared key is calculated\n",
    "KA=pow(B,a,n)\n",
    "\n",
    "print(\"Shared secret key is: \", KA)\n",
    "\n",
    "KB=pow(A,b,n)\n",
    "\n",
    "print(\"Shared secret key is: \", KB)"
   ]
  }
 ],
 "metadata": {
  "kernelspec": {
   "display_name": "Python 3",
   "language": "python",
   "name": "python3"
  },
  "language_info": {
   "codemirror_mode": {
    "name": "ipython",
    "version": 3
   },
   "file_extension": ".py",
   "mimetype": "text/x-python",
   "name": "python",
   "nbconvert_exporter": "python",
   "pygments_lexer": "ipython3",
   "version": "3.9.1"
  }
 },
 "nbformat": 4,
 "nbformat_minor": 5
}
